{
 "cells": [
  {
   "cell_type": "code",
   "execution_count": null,
   "id": "8ee6431b-12e3-4a99-bca2-a7ae7b4149fe",
   "metadata": {
    "tags": []
   },
   "outputs": [],
   "source": [
    "from pyspark.sql import SparkSession\n",
    "from pyspark.conf import SparkConf\n",
    "import os\n",
    "\n",
    "secret = os.environ.get(\"SPARK_AUTH_SECRET\")\n",
    "conf = SparkConf()\n",
    "conf.set(\"spark.authenticate\", \"true\")\n",
    "conf.set(\"spark.driver.extraJavaOptions\", f\"-Dspark.authenticate.secret={secret}\")\n",
    "\n",
    "spark = SparkSession.builder.config(conf=conf)\\\n",
    "    .master(\"spark://node1.dw.felicity.net.bd:7077,node2.dw.felicity.net.bd:7077\")\\\n",
    "    .getOrCreate()\n",
    "\n"
   ]
  },
  {
   "cell_type": "code",
   "execution_count": null,
   "id": "dcd046c8-d3ca-43c3-b1ec-0eea62b1bff0",
   "metadata": {
    "tags": []
   },
   "outputs": [],
   "source": [
    "spark.sql(\"select 1\")"
   ]
  },
  {
   "cell_type": "code",
   "execution_count": null,
   "id": "23d454ad",
   "metadata": {
    "tags": []
   },
   "outputs": [],
   "source": [
    "load_ext sparksql_magic"
   ]
  },
  {
   "cell_type": "code",
   "execution_count": null,
   "id": "458aa818-0da2-490a-9e61-b0073c204c6a",
   "metadata": {},
   "outputs": [],
   "source": [
    "%%sparksql\n",
    "CREATE TABLE table3 (\n",
    "    order_id BIGINT\n",
    ")\n",
    "USING iceberg;"
   ]
  },
  {
   "cell_type": "code",
   "execution_count": null,
   "id": "b2fa5e9b-ae48-4b3f-9a84-5a1e44f5258b",
   "metadata": {},
   "outputs": [],
   "source": [
    "%%sparksql\n",
    "CREATE TABLE table1 (\n",
    "    order_id BIGINT,\n",
    "    customer_id BIGINT,\n",
    "    order_amount DECIMAL(10, 2),\n",
    "    order_ts TIMESTAMP\n",
    ")\n",
    "USING iceberg\n",
    "PARTITIONED BY ( hours(order_ts) );"
   ]
  },
  {
   "cell_type": "code",
   "execution_count": null,
   "id": "26ce1bd1",
   "metadata": {
    "tags": []
   },
   "outputs": [],
   "source": [
    "%%sparksql\n",
    "INSERT INTO table1 VALUES (\n",
    "    125,\n",
    "    456,\n",
    "    36.17,\n",
    "    TIMESTAMP('2021-01-26 08:10:23')\n",
    ");"
   ]
  },
  {
   "cell_type": "code",
   "execution_count": null,
   "id": "948a24f8",
   "metadata": {
    "tags": []
   },
   "outputs": [],
   "source": [
    "%%sparksql\n",
    "select * from table1"
   ]
  },
  {
   "cell_type": "code",
   "execution_count": null,
   "id": "3e1cbc7e-39a9-40d3-885a-f54607197af9",
   "metadata": {},
   "outputs": [],
   "source": [
    "!echo $AWS_ACCESS_KEY_ID"
   ]
  },
  {
   "cell_type": "code",
   "execution_count": null,
   "id": "963a8713",
   "metadata": {},
   "outputs": [],
   "source": []
  }
 ],
 "metadata": {
  "kernelspec": {
   "display_name": "Python 3 (ipykernel)",
   "language": "python",
   "name": "python3"
  },
  "language_info": {
   "codemirror_mode": {
    "name": "ipython",
    "version": 3
   },
   "file_extension": ".py",
   "mimetype": "text/x-python",
   "name": "python",
   "nbconvert_exporter": "python",
   "pygments_lexer": "ipython3",
   "version": "3.10.12"
  }
 },
 "nbformat": 4,
 "nbformat_minor": 5
}
