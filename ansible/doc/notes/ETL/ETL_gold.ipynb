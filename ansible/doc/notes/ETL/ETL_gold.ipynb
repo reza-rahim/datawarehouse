{
 "cells": [
  {
   "cell_type": "code",
   "execution_count": 1,
   "id": "43b75685-bf7e-4171-9776-22ecc9ba0355",
   "metadata": {},
   "outputs": [
    {
     "name": "stderr",
     "output_type": "stream",
     "text": [
      "Warning: Ignoring non-Spark config property: Dspark.network.crypto.saslFallback\n",
      "Warning: Ignoring non-Spark config property: park.hadoop.hive.metastore.client.ssl.enabled\n",
      "Setting default log level to \"WARN\".\n",
      "To adjust logging level use sc.setLogLevel(newLevel). For SparkR, use setLogLevel(newLevel).\n",
      "25/06/11 04:17:09 WARN NativeCodeLoader: Unable to load native-hadoop library for your platform... using builtin-java classes where applicable\n",
      "25/06/11 04:17:10 WARN Utils: Service 'SparkUI' could not bind on port 4040. Attempting port 4041.\n",
      "25/06/11 04:17:10 WARN Utils: Service 'SparkUI' could not bind on port 4041. Attempting port 4042.\n",
      "25/06/11 04:17:10 WARN MetricsConfig: Cannot locate configuration: tried hadoop-metrics2-s3a-file-system.properties,hadoop-metrics2.properties\n",
      "25/06/11 04:17:11 WARN S3ABlockOutputStream: Application invoked the Syncable API against stream writing to spark-events/app-20250611041705-0039.inprogress. This is unsupported\n"
     ]
    }
   ],
   "source": [
    "from pyspark.sql import SparkSession\n",
    "from pyspark.conf import SparkConf\n",
    "import os\n",
    "\n",
    "secret = os.environ.get(\"SPARK_AUTH_SECRET\")\n",
    "conf = SparkConf()\n",
    "conf.set(\"spark.authenticate\", \"true\")\n",
    "conf.set(\"spark.driver.extraJavaOptions\", f\"-Dspark.authenticate.secret={secret}\")\n",
    "\n",
    "spark = SparkSession.builder.config(conf=conf)\\\n",
    "    .appName(\"merge_silver\") \\\n",
    "    .master(\"spark://node1.dw.felicity.net.bd:7077,node2.dw.felicity.net.bd:7077\")\\\n",
    "    .getOrCreate()"
   ]
  },
  {
   "cell_type": "code",
   "execution_count": 4,
   "id": "a94be7a9-9385-4074-915d-575c8ff8d85e",
   "metadata": {},
   "outputs": [
    {
     "name": "stderr",
     "output_type": "stream",
     "text": [
      "                                                                                \r"
     ]
    }
   ],
   "source": [
    "spark.sql(f\"\"\"\n",
    "INSERT INTO gold.fact_sales_enriched\n",
    "SELECT\n",
    "    f.order_item_id,\n",
    "    f.order_id,\n",
    "    \n",
    "    c.customer_id,\n",
    "    c.full_name,\n",
    "    c.email,\n",
    "    c.phone_number,\n",
    "    c.location_id,\n",
    "    \n",
    "    l.country,\n",
    "    l.state,\n",
    "    l.city,\n",
    "    l.postal_code,\n",
    "    \n",
    "    p.product_id,\n",
    "    p.product_name,\n",
    "    p.category,\n",
    "    p.description,\n",
    "    p.price,\n",
    "    p.in_stock,\n",
    "    \n",
    "    f.order_date,\n",
    "    f.quantity,\n",
    "    f.unit_price,\n",
    "    f.total_price,\n",
    "    f.status,\n",
    "    f.updated_at,\n",
    "    \n",
    "    c.created_at AS customer_created_at,\n",
    "    c.load_timestamp AS customer_load_timestamp,\n",
    "    p.created_at AS product_created_at,\n",
    "    p.load_timestamp AS product_load_timestamp,\n",
    "    l.load_timestamp AS location_load_timestamp,\n",
    "    \n",
    "    f.load_timestamp\n",
    "FROM silver.fact_sales f\n",
    "JOIN silver.dim_customer c ON f.customer_id = c.customer_id\n",
    "JOIN silver.dim_location l ON c.location_id = l.location_id\n",
    "JOIN silver.dim_product p ON f.product_id = p.product_id;\n",
    "\n",
    "\"\"\");"
   ]
  },
  {
   "cell_type": "code",
   "execution_count": null,
   "id": "c9ea8f3f-1541-404d-ad1e-c0c0bc3d0618",
   "metadata": {},
   "outputs": [],
   "source": []
  }
 ],
 "metadata": {
  "kernelspec": {
   "display_name": "Python 3 (ipykernel)",
   "language": "python",
   "name": "python3"
  },
  "language_info": {
   "codemirror_mode": {
    "name": "ipython",
    "version": 3
   },
   "file_extension": ".py",
   "mimetype": "text/x-python",
   "name": "python",
   "nbconvert_exporter": "python",
   "pygments_lexer": "ipython3",
   "version": "3.10.12"
  }
 },
 "nbformat": 4,
 "nbformat_minor": 5
}
