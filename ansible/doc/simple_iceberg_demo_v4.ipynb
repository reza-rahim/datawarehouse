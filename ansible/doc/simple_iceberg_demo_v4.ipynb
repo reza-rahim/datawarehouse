{
 "cells": [
  {
   "cell_type": "code",
   "execution_count": 1,
   "id": "8ee6431b-12e3-4a99-bca2-a7ae7b4149fe",
   "metadata": {
    "tags": []
   },
   "outputs": [
    {
     "name": "stderr",
     "output_type": "stream",
     "text": [
      "Setting default log level to \"WARN\".\n",
      "To adjust logging level use sc.setLogLevel(newLevel). For SparkR, use setLogLevel(newLevel).\n",
      "25/04/29 18:51:03 WARN NativeCodeLoader: Unable to load native-hadoop library for your platform... using builtin-java classes where applicable\n",
      "25/04/29 18:51:04 WARN MetricsConfig: Cannot locate configuration: tried hadoop-metrics2-s3a-file-system.properties,hadoop-metrics2.properties\n",
      "25/04/29 18:51:05 WARN S3ABlockOutputStream: Application invoked the Syncable API against stream writing to logs/app-20250429185102-0005.inprogress. This is unsupported\n"
     ]
    }
   ],
   "source": [
    "from pyspark.sql import SparkSession\n",
    "from pyspark.conf import SparkConf\n",
    "import os\n",
    "\n",
    "conf = (SparkConf())\n",
    "#conf.set(\"spark.sql.catalog.local\",\"org.apache.iceberg.spark.SparkCatalog\")\n",
    "spark = SparkSession.builder.config(conf=conf).master(\"spark://node1.dw.felicity.net.bd:7077,node2.dw.felicity.net.bd:7077\").getOrCreate()"
   ]
  },
  {
   "cell_type": "code",
   "execution_count": 2,
   "id": "dcd046c8-d3ca-43c3-b1ec-0eea62b1bff0",
   "metadata": {
    "tags": []
   },
   "outputs": [
    {
     "data": {
      "text/plain": [
       "DataFrame[1: int]"
      ]
     },
     "execution_count": 2,
     "metadata": {},
     "output_type": "execute_result"
    }
   ],
   "source": [
    "spark.sql(\"select 1\")"
   ]
  },
  {
   "cell_type": "code",
   "execution_count": 5,
   "id": "23d454ad",
   "metadata": {
    "tags": []
   },
   "outputs": [
    {
     "name": "stdout",
     "output_type": "stream",
     "text": [
      "The sparksql_magic extension is already loaded. To reload it, use:\n",
      "  %reload_ext sparksql_magic\n"
     ]
    }
   ],
   "source": [
    "load_ext sparksql_magic"
   ]
  },
  {
   "cell_type": "code",
   "execution_count": null,
   "id": "1c80d737-fc1d-4d9d-a33c-2a5991927247",
   "metadata": {},
   "outputs": [],
   "source": [
    "%%sparksql\n",
    "CREATE DATABASE local.db"
   ]
  },
  {
   "cell_type": "code",
   "execution_count": 7,
   "id": "5121bb4d",
   "metadata": {
    "tags": []
   },
   "outputs": [
    {
     "data": {
      "text/html": [
       "<table><tr style=\"border-bottom: 1px solid\"></tr></table>"
      ],
      "text/plain": [
       "<IPython.core.display.HTML object>"
      ]
     },
     "execution_count": 7,
     "metadata": {},
     "output_type": "execute_result"
    }
   ],
   "source": [
    "%%sparksql\n",
    "CREATE TABLE table1 (\n",
    "    order_id BIGINT,\n",
    "    customer_id BIGINT,\n",
    "    order_amount DECIMAL(10, 2),\n",
    "    order_ts TIMESTAMP\n",
    ")\n",
    "USING iceberg\n",
    "PARTITIONED BY ( hours(order_ts) );"
   ]
  },
  {
   "cell_type": "code",
   "execution_count": 9,
   "id": "26ce1bd1",
   "metadata": {
    "tags": []
   },
   "outputs": [
    {
     "name": "stderr",
     "output_type": "stream",
     "text": [
      "                                                                                \r"
     ]
    },
    {
     "data": {
      "text/html": [
       "<table><tr style=\"border-bottom: 1px solid\"></tr></table>"
      ],
      "text/plain": [
       "<IPython.core.display.HTML object>"
      ]
     },
     "execution_count": 9,
     "metadata": {},
     "output_type": "execute_result"
    }
   ],
   "source": [
    "%%sparksql\n",
    "INSERT INTO table1 VALUES (\n",
    "    125,\n",
    "    456,\n",
    "    36.17,\n",
    "    TIMESTAMP('2021-01-26 08:10:23')\n",
    ");"
   ]
  },
  {
   "cell_type": "code",
   "execution_count": 10,
   "id": "948a24f8",
   "metadata": {
    "tags": []
   },
   "outputs": [
    {
     "data": {
      "text/html": [
       "<table><tr style=\"border-bottom: 1px solid\"><td style=\"font-weight: bold\">order_id</td><td style=\"font-weight: bold\">customer_id</td><td style=\"font-weight: bold\">order_amount</td><td style=\"font-weight: bold\">order_ts</td></tr><tr><td>125</td><td>456</td><td>36.17</td><td>2021-01-26 08:10:23</td></tr></table>"
      ],
      "text/plain": [
       "<IPython.core.display.HTML object>"
      ]
     },
     "execution_count": 10,
     "metadata": {},
     "output_type": "execute_result"
    }
   ],
   "source": [
    "%%sparksql\n",
    "select * from table1"
   ]
  },
  {
   "cell_type": "code",
   "execution_count": null,
   "id": "3e1cbc7e-39a9-40d3-885a-f54607197af9",
   "metadata": {},
   "outputs": [],
   "source": []
  }
 ],
 "metadata": {
  "kernelspec": {
   "display_name": "Python 3 (ipykernel)",
   "language": "python",
   "name": "python3"
  },
  "language_info": {
   "codemirror_mode": {
    "name": "ipython",
    "version": 3
   },
   "file_extension": ".py",
   "mimetype": "text/x-python",
   "name": "python",
   "nbconvert_exporter": "python",
   "pygments_lexer": "ipython3",
   "version": "3.10.12"
  }
 },
 "nbformat": 4,
 "nbformat_minor": 5
}
