{
 "cells": [
  {
   "cell_type": "code",
   "execution_count": null,
   "id": "8ee6431b-12e3-4a99-bca2-a7ae7b4149fe",
   "metadata": {
    "tags": []
   },
   "outputs": [],
   "source": [
    "from pyspark.sql import SparkSession\n",
    "from pyspark.conf import SparkConf\n",
    "import os\n",
    "\n",
    "conf = (SparkConf())\n",
    "conf.set(\"spark.sql.catalog.local\",\"org.apache.iceberg.spark.SparkCatalog\")\n",
    "spark = SparkSession.builder.config(conf=conf).master(\"spark://node-1:7077,node-2:7077\").getOrCreate()"
   ]
  },
  {
   "cell_type": "code",
   "execution_count": null,
   "id": "dcd046c8-d3ca-43c3-b1ec-0eea62b1bff0",
   "metadata": {
    "tags": []
   },
   "outputs": [],
   "source": [
    "spark.sql(\"select 1\")"
   ]
  },
  {
   "cell_type": "code",
   "execution_count": null,
   "id": "23d454ad",
   "metadata": {
    "tags": []
   },
   "outputs": [],
   "source": [
    "load_ext sparksql_magic"
   ]
  },
  {
   "cell_type": "code",
   "execution_count": null,
   "id": "fa870060-068f-4df6-9999-b1f1ff949ac3",
   "metadata": {
    "tags": []
   },
   "outputs": [],
   "source": [
    "%%sparksql\n",
    "CREATE DATABASE local.db"
   ]
  },
  {
   "cell_type": "code",
   "execution_count": null,
   "id": "5121bb4d",
   "metadata": {
    "tags": []
   },
   "outputs": [],
   "source": [
    "%%sparksql\n",
    "CREATE TABLE local.db.table1 (\n",
    "    order_id BIGINT,\n",
    "    customer_id BIGINT,\n",
    "    order_amount DECIMAL(10, 2),\n",
    "    order_ts TIMESTAMP\n",
    ")\n",
    "USING iceberg\n",
    "PARTITIONED BY ( hours(order_ts) );"
   ]
  },
  {
   "cell_type": "code",
   "execution_count": null,
   "id": "26ce1bd1",
   "metadata": {
    "tags": []
   },
   "outputs": [],
   "source": [
    "%%sparksql\n",
    "INSERT INTO local.db.table1 VALUES (\n",
    "    125,\n",
    "    456,\n",
    "    36.17,\n",
    "    TIMESTAMP('2021-01-26 08:10:23')\n",
    ");"
   ]
  },
  {
   "cell_type": "code",
   "execution_count": null,
   "id": "948a24f8",
   "metadata": {
    "tags": []
   },
   "outputs": [],
   "source": [
    "\n",
    "%%sparksql\n",
    "select * from local.db.table1"
   ]
  },
  {
   "cell_type": "code",
   "execution_count": null,
   "id": "a39d0811",
   "metadata": {},
   "outputs": [],
   "source": []
  }
 ],
 "metadata": {
  "kernelspec": {
   "display_name": "Python 3 (ipykernel)",
   "language": "python",
   "name": "python3"
  },
  "language_info": {
   "codemirror_mode": {
    "name": "ipython",
    "version": 3
   },
   "file_extension": ".py",
   "mimetype": "text/x-python",
   "name": "python",
   "nbconvert_exporter": "python",
   "pygments_lexer": "ipython3",
   "version": "3.8.10"
  }
 },
 "nbformat": 4,
 "nbformat_minor": 5
}
